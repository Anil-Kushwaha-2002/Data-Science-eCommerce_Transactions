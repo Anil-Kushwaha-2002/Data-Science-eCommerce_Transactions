{
 "cells": [
  {
   "cell_type": "markdown",
   "metadata": {},
   "source": [
    "Task 2: Lookalike Model\n",
    "\n",
    "Build a Lookalike Model that takes a user's information as input and recommends 3 similar\n",
    "customers based on their profile and transaction history. The model should:\n",
    "● Use both customer and product information.\n",
    "● Assign a similarity score to each recommended customer.\n",
    "Deliverables:\n",
    "● Give the top 3 lookalikes with there similarity scores for the first 20 customers\n",
    "(CustomerID: C0001 - C0020) in Customers.csv. Form an “Lookalike.csv” which has\n",
    "just one map: Map<cust_id, List<cust_id, score>>\n",
    "● A Jupyter Notebook/Python script explaining your model development."
   ]
  },
  {
   "cell_type": "code",
   "execution_count": 8,
   "metadata": {},
   "outputs": [
    {
     "ename": "SyntaxError",
     "evalue": "'[' was never closed (2919813086.py, line 44)",
     "output_type": "error",
     "traceback": [
      "\u001b[1;36m  Cell \u001b[1;32mIn[8], line 44\u001b[1;36m\u001b[0m\n\u001b[1;33m    relevant_features = [\u001b[0m\n\u001b[1;37m                        ^\u001b[0m\n\u001b[1;31mSyntaxError\u001b[0m\u001b[1;31m:\u001b[0m '[' was never closed\n"
     ]
    }
   ],
   "source": [
    "import pandas as pd\n",
    "import sklearn\n",
    "import numpy as np\n",
    "from sklearn.metrics.pairwise import cosine_similarity\n",
    "from sklearn.preprocessing import StandardScaler\n",
    "print(sklearn.__version__)\n",
    "from sklearn.preprocessing import OneHotEncoder\n",
    "from sklearn.feature_extraction.text import TfidfVectorizer  # For product descriptions\n",
    "from sklearn.metrics.pairwise import cosine_similarity\n",
    "\n",
    "# Read data (assuming you have CSV files)\n",
    "customers_df = pd.read_csv(\"Customers.csv\")\n",
    "products_df = pd.read_csv(\"Products.csv\")\n",
    "transactions_df = pd.read_csv(\"Transactions.csv\")\n",
    "\n",
    "\n",
    "# Feature engineering\n",
    "merged_df = pd.merge(customers_df, transactions_df, on=\"CustomerID\")\n",
    "merged_df = pd.merge(merged_df, products_df, on=\"ProductID\")\n",
    "\n",
    "merged_df[\"purchase_frequency\"] = merged_df.groupby(\"CustomerID\")[\"TransactionID\"].transform(\"count\")\n",
    "merged_df[\"last_purchase_day\"] = (\n",
    "    merged_df.groupby(\"CustomerID\")[\"TransactionDate\"].transform(pd.to_datetime).max()\n",
    "    - pd.to_datetime(\"today\")\n",
    ").days\n",
    "merged_df[\"total_purchase_amount\"] = merged_df.groupby(\"CustomerID\")[\"TotalValue\"].transform(\"sum\")\n",
    "\n",
    "# Text-based features for product descriptions (if applicable)\n",
    "if \"ProductDescription\" in products_df.columns:\n",
    "    vectorizer = TfidfVectorizer()\n",
    "    product_descriptions = products_df[\"ProductDescription\"]\n",
    "    product_features = vectorizer.fit_transform(product_descriptions)\n",
    "\n",
    "    product_features_df = pd.DataFrame(product_features.toarray(), columns=vectorizer.get_feature_names_out())\n",
    "    merged_df = pd.concat([merged_df, product_features_df], axis=1)\n",
    "\n",
    "# One-hot encode categorical features\n",
    "categorical_cols = [\"Region\", \"Category\"]  \n",
    "encoder = OneHotEncoder(sparse_output=False) \n",
    "encoded_df = pd.DataFrame(encoder.fit_transform(merged_df[categorical_cols]), columns=encoder.get_feature_names_out(categorical_cols))\n",
    "merged_df = pd.concat([merged_df, encoded_df], axis=1)\n",
    "\n",
    "# one-hot encoded features, product preferences)\n",
    "relevant_features = [\n",
    "    \"purchase_frequency\", \"last_purchase_day\", \"total_purchase_amount\", \n",
    "    *encoded_df.columns.tolist(),  \n",
    "customer_profiles = merged_df.groupby(\"CustomerID\")[relevant_features].mean()\n",
    "\n",
    "# Similarity calculation using cosine similarity\n",
    "similarity_matrix = cosine_similarity(customer_profiles)\n",
    "\n",
    "# Lookalike recommendation\n",
    "def recommend_lookalikes(customer_id, k=3):\n",
    "    \"\"\"Recommends k most similar customers to a given customer.\"\"\"\n",
    "    if customer_id not in customer_profiles.index:\n",
    "        raise ValueError(f\"Customer ID {customer_id} not found in the profiles.\")\n",
    "    customer_index = customer_profiles.index.get_loc(customer_id) \n",
    "    similar_indices = similarity_matrix[customer_index].argsort()[-k:][::-1] \n",
    "    lookalikes = [(customer_profiles.index[i], similarity_matrix[customer_index, i]) for i in similar_indices if i != customer_index]  # Avoid self\n",
    "    return lookalikes\n",
    "\n",
    "# Generate Lookalike.csv\n",
    "lookalike_data = []\n",
    "for customer_id in customer_profiles.index[:20]: \n",
    "    lookalikes = recommend_lookalikes(customer_id)\n",
    "    for lookalike_id, similarity in lookalikes:\n",
    "        lookalike_data.append([customer_id, lookalike_id, similarity])\n",
    "\n",
    "lookalike_df = pd.DataFrame(lookalike_data, columns=[\"CustomerID\", \"LookalikeID\", \"Similarity\"])\n",
    "lookalike_df.to_csv(\"Lookalike.csv\", index=False)\n"
   ]
  }
 ],
 "metadata": {
  "kernelspec": {
   "display_name": "Python 3",
   "language": "python",
   "name": "python3"
  },
  "language_info": {
   "codemirror_mode": {
    "name": "ipython",
    "version": 3
   },
   "file_extension": ".py",
   "mimetype": "text/x-python",
   "name": "python",
   "nbconvert_exporter": "python",
   "pygments_lexer": "ipython3",
   "version": "3.13.1"
  }
 },
 "nbformat": 4,
 "nbformat_minor": 2
}
